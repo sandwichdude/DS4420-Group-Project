{
 "cells": [
  {
   "cell_type": "code",
   "execution_count": 11,
   "metadata": {},
   "outputs": [],
   "source": [
    "import pandas as pd\n",
    "import numpy as np\n",
    "from datetime import datetime\n",
    "import os"
   ]
  },
  {
   "cell_type": "code",
   "execution_count": 12,
   "metadata": {},
   "outputs": [
    {
     "name": "stdout",
     "output_type": "stream",
     "text": [
      "  schedule_date  schedule_season schedule_week  schedule_playoff  \\\n",
      "0      9/2/1966             1966             1             False   \n",
      "1      9/3/1966             1966             1             False   \n",
      "2      9/4/1966             1966             1             False   \n",
      "3      9/9/1966             1966             2             False   \n",
      "4     9/10/1966             1966             1             False   \n",
      "\n",
      "            team_home  score_home  score_away        team_away  \\\n",
      "0      Miami Dolphins        14.0        23.0  Oakland Raiders   \n",
      "1      Houston Oilers        45.0         7.0   Denver Broncos   \n",
      "2  San Diego Chargers        27.0         7.0    Buffalo Bills   \n",
      "3      Miami Dolphins        14.0        19.0    New York Jets   \n",
      "4   Green Bay Packers        24.0         3.0  Baltimore Colts   \n",
      "\n",
      "  team_favorite_id  spread_favorite over_under_line         stadium  \\\n",
      "0              NaN              NaN             NaN     Orange Bowl   \n",
      "1              NaN              NaN             NaN    Rice Stadium   \n",
      "2              NaN              NaN             NaN  Balboa Stadium   \n",
      "3              NaN              NaN             NaN     Orange Bowl   \n",
      "4              NaN              NaN             NaN   Lambeau Field   \n",
      "\n",
      "   stadium_neutral  weather_temperature  weather_wind_mph  weather_humidity  \\\n",
      "0            False                 83.0               6.0              71.0   \n",
      "1            False                 81.0               7.0              70.0   \n",
      "2            False                 70.0               7.0              82.0   \n",
      "3            False                 82.0              11.0              78.0   \n",
      "4            False                 64.0               8.0              62.0   \n",
      "\n",
      "  weather_detail  \n",
      "0            NaN  \n",
      "1            NaN  \n",
      "2            NaN  \n",
      "3            NaN  \n",
      "4            NaN  \n"
     ]
    }
   ],
   "source": [
    "df_spreadspoke = pd.read_csv('spreadspoke_scores.csv')\n",
    "\n",
    "print(df_spreadspoke.head())"
   ]
  },
  {
   "cell_type": "code",
   "execution_count": 34,
   "metadata": {},
   "outputs": [
    {
     "name": "stdout",
     "output_type": "stream",
     "text": [
      "Index(['season', 'week', 'date', 'time_et', 'neutral', 'away', 'home',\n",
      "       'score_away', 'score_home', 'first_downs_away', 'first_downs_home',\n",
      "       'first_downs_from_passing_away', 'first_downs_from_passing_home',\n",
      "       'first_downs_from_rushing_away', 'first_downs_from_rushing_home',\n",
      "       'first_downs_from_penalty_away', 'first_downs_from_penalty_home',\n",
      "       'third_down_comp_away', 'third_down_att_away', 'third_down_comp_home',\n",
      "       'third_down_att_home', 'fourth_down_comp_away', 'fourth_down_att_away',\n",
      "       'fourth_down_comp_home', 'fourth_down_att_home', 'plays_away',\n",
      "       'plays_home', 'drives_away', 'drives_home', 'yards_away', 'yards_home',\n",
      "       'pass_comp_away', 'pass_att_away', 'pass_yards_away', 'pass_comp_home',\n",
      "       'pass_att_home', 'pass_yards_home', 'sacks_num_away',\n",
      "       'sacks_yards_away', 'sacks_num_home', 'sacks_yards_home',\n",
      "       'rush_att_away', 'rush_yards_away', 'rush_att_home', 'rush_yards_home',\n",
      "       'pen_num_away', 'pen_yards_away', 'pen_num_home', 'pen_yards_home',\n",
      "       'redzone_comp_away', 'redzone_att_away', 'redzone_comp_home',\n",
      "       'redzone_att_home', 'fumbles_away', 'fumbles_home',\n",
      "       'interceptions_away', 'interceptions_home', 'def_st_td_away',\n",
      "       'def_st_td_home', 'possession_away', 'possession_home'],\n",
      "      dtype='object')\n"
     ]
    }
   ],
   "source": [
    "df_game_data = pd.read_csv('nfl_team_stats_2002-2023.csv')\n",
    "\n",
    "#print(df_game_data.head())\n",
    "print(df_game_data.columns)"
   ]
  },
  {
   "cell_type": "code",
   "execution_count": 38,
   "metadata": {},
   "outputs": [],
   "source": [
    "# Convert possession time to minutes for both home and away teams\n",
    "def convert_possession_to_minutes(time_str):\n",
    "    if pd.isna(time_str):  # Handle any missing values\n",
    "        return 0\n",
    "    minutes, seconds = map(int, time_str.split(':'))\n",
    "    return minutes + seconds / 60  # Convert to total minute"
   ]
  },
  {
   "cell_type": "code",
   "execution_count": 39,
   "metadata": {},
   "outputs": [
    {
     "name": "stdout",
     "output_type": "stream",
     "text": [
      "   possession_home\n",
      "0        32.466667\n",
      "1        32.550000\n",
      "2        34.400000\n",
      "3        34.400000\n",
      "4        30.800000\n",
      "   possession_away\n",
      "0        27.533333\n",
      "1        27.450000\n",
      "2        25.600000\n",
      "3        25.600000\n",
      "4        29.200000\n"
     ]
    }
   ],
   "source": [
    "# Apply the conversion to both home and away possession columns\n",
    "df_game_data['possession_home'] = df_game_data['possession_home'].apply(convert_possession_to_minutes)\n",
    "df_game_data['possession_away'] = df_game_data['possession_away'].apply(convert_possession_to_minutes)\n",
    "\n",
    "# Check the results\n",
    "print(df_game_data[['possession_home']].head())\n",
    "print(df_game_data[['possession_away']].head())"
   ]
  },
  {
   "cell_type": "code",
   "execution_count": 40,
   "metadata": {},
   "outputs": [
    {
     "name": "stdout",
     "output_type": "stream",
     "text": [
      "Home Team DataFrame:\n",
      "   season week        date  time_et  neutral        home  score_home  \\\n",
      "0    2002    1  2002-09-05  8:30 PM    False      Giants          13   \n",
      "1    2002    1  2002-09-08  1:00 PM    False     Jaguars          25   \n",
      "2    2002    1  2002-09-08  1:00 PM    False  Commanders          31   \n",
      "3    2002    1  2002-09-08  1:00 PM    False    Dolphins          49   \n",
      "4    2002    1  2002-09-08  1:00 PM    False      Titans          27   \n",
      "\n",
      "   first_downs_home  first_downs_from_passing_home  \\\n",
      "0                21                             17   \n",
      "1                19                             11   \n",
      "2                21                             13   \n",
      "3                27                             15   \n",
      "4                22                             15   \n",
      "\n",
      "   first_downs_from_rushing_home  ...  rush_att_home  rush_yards_home  \\\n",
      "0                              2  ...             22               43   \n",
      "1                              8  ...             32              118   \n",
      "2                              8  ...             32              122   \n",
      "3                             11  ...             41              182   \n",
      "4                              3  ...             25               61   \n",
      "\n",
      "   pen_num_home  pen_yards_home  redzone_comp_home  redzone_att_home  \\\n",
      "0            10              80                  0                 6   \n",
      "1             5              40                  0                 8   \n",
      "2             7              56                  0                 8   \n",
      "3             4              54                  0                 8   \n",
      "4             6              50                  0                 7   \n",
      "\n",
      "   fumbles_home  interceptions_home  def_st_td_home  possession_home  \n",
      "0             0                   3               0        32.466667  \n",
      "1             1                   1               0        32.550000  \n",
      "2             0                   1               0        34.400000  \n",
      "3             0                   0               2        34.400000  \n",
      "4             3                   1               0        30.800000  \n",
      "\n",
      "[5 rows x 33 columns]\n",
      "\n",
      "Away Team DataFrame:\n",
      "   season week        date  time_et  neutral       away  score_away  \\\n",
      "0    2002    1  2002-09-05  8:30 PM    False      49ers          16   \n",
      "1    2002    1  2002-09-08  1:00 PM    False      Colts          28   \n",
      "2    2002    1  2002-09-08  1:00 PM    False  Cardinals          23   \n",
      "3    2002    1  2002-09-08  1:00 PM    False      Lions          21   \n",
      "4    2002    1  2002-09-08  1:00 PM    False     Eagles          24   \n",
      "\n",
      "   first_downs_away  first_downs_from_passing_away  \\\n",
      "0                13                              7   \n",
      "1                18                             13   \n",
      "2                14                              9   \n",
      "3                15                             10   \n",
      "4                17                             11   \n",
      "\n",
      "   first_downs_from_rushing_away  ...  rush_att_away  rush_yards_away  \\\n",
      "0                              5  ...             25              113   \n",
      "1                              5  ...             28              104   \n",
      "2                              5  ...             20               70   \n",
      "3                              4  ...             19               51   \n",
      "4                              5  ...             22               80   \n",
      "\n",
      "   pen_num_away  pen_yards_away  redzone_comp_away  redzone_att_away  \\\n",
      "0             5              29                  0                 8   \n",
      "1             2              14                  0                 6   \n",
      "2             1               5                  0                 5   \n",
      "3             6              68                  0                 6   \n",
      "4            10             113                  0                 3   \n",
      "\n",
      "   fumbles_away  interceptions_away  def_st_td_away  possession_away  \n",
      "0             0                   1               0        27.533333  \n",
      "1             2                   0               2        27.450000  \n",
      "2             0                   1               0        25.600000  \n",
      "3             1                   1               0        25.600000  \n",
      "4             1                   2               0        29.200000  \n",
      "\n",
      "[5 rows x 33 columns]\n"
     ]
    }
   ],
   "source": [
    "# Define home and away columns\n",
    "home_columns = ['season', 'week', 'date', 'time_et', 'neutral', 'home', \n",
    "                'score_home', 'first_downs_home', 'first_downs_from_passing_home',\n",
    "                'first_downs_from_rushing_home', 'first_downs_from_penalty_home',\n",
    "                'third_down_comp_home', 'third_down_att_home',\n",
    "                'fourth_down_comp_home', 'fourth_down_att_home', 'plays_home',\n",
    "                'drives_home', 'yards_home', 'pass_comp_home', 'pass_att_home',\n",
    "                'pass_yards_home', 'sacks_num_home', 'sacks_yards_home',\n",
    "                'rush_att_home', 'rush_yards_home', 'pen_num_home',\n",
    "                'pen_yards_home', 'redzone_comp_home', 'redzone_att_home',\n",
    "                'fumbles_home', 'interceptions_home', 'def_st_td_home',\n",
    "                'possession_home']\n",
    "\n",
    "away_columns = ['season', 'week', 'date', 'time_et', 'neutral', 'away', \n",
    "                'score_away', 'first_downs_away', 'first_downs_from_passing_away',\n",
    "                'first_downs_from_rushing_away', 'first_downs_from_penalty_away',\n",
    "                'third_down_comp_away', 'third_down_att_away',\n",
    "                'fourth_down_comp_away', 'fourth_down_att_away', 'plays_away',\n",
    "                'drives_away', 'yards_away', 'pass_comp_away', 'pass_att_away',\n",
    "                'pass_yards_away', 'sacks_num_away', 'sacks_yards_away',\n",
    "                'rush_att_away', 'rush_yards_away', 'pen_num_away',\n",
    "                'pen_yards_away', 'redzone_comp_away', 'redzone_att_away',\n",
    "                'fumbles_away', 'interceptions_away', 'def_st_td_away',\n",
    "                'possession_away']\n",
    "\n",
    "# Create separate DataFrames for home and away teams\n",
    "df_home = df_game_data[home_columns].copy()\n",
    "df_away = df_game_data[away_columns].copy()\n",
    "\n",
    "# Display the first few rows of each DataFrame\n",
    "print(\"Home Team DataFrame:\")\n",
    "print(df_home.head())\n",
    "\n",
    "print(\"\\nAway Team DataFrame:\")\n",
    "print(df_away.head())\n"
   ]
  },
  {
   "cell_type": "code",
   "execution_count": 45,
   "metadata": {},
   "outputs": [
    {
     "data": {
      "image/png": "[encoded data removed]",
      "text/plain": [
       "<Figure size 1000x600 with 1 Axes>"
      ]
     },
     "metadata": {},
     "output_type": "display_data"
    }
   ],
   "source": [
    "import pandas as pd\n",
    "from sklearn.decomposition import PCA\n",
    "from sklearn.preprocessing import StandardScaler\n",
    "import matplotlib.pyplot as plt\n",
    "\n",
    "# Load and prepare the data (assuming df_home is already created and cleaned)\n",
    "# Drop non-numeric columns and the target column 'score_home'\n",
    "features = df_home.drop(columns=['season', 'week', 'date', 'time_et', 'neutral', 'home', 'score_home']).columns.tolist()\n",
    "X_home = df_home[features].dropna()  # Drop any rows with missing values\n",
    "y_home = df_home['score_home'].loc[X_home.index]  # Align y_home with X_home\n",
    "\n",
    "# Standardize the features\n",
    "scaler = StandardScaler()\n",
    "X_home_scaled = scaler.fit_transform(X_home)\n",
    "\n",
    "# Perform PCA\n",
    "pca = PCA()\n",
    "X_home_pca = pca.fit_transform(X_home_scaled)\n",
    "\n",
    "# Calculate cumulative explained variance\n",
    "cumulative_variance = pca.explained_variance_ratio_.cumsum()\n",
    "\n",
    "# Plot cumulative explained variance\n",
    "plt.figure(figsize=(10, 6))\n",
    "plt.plot(range(1, len(cumulative_variance) + 1), cumulative_variance, marker='o')\n",
    "plt.xlabel('Number of Principal Components')\n",
    "plt.ylabel('Cumulative Explained Variance')\n",
    "plt.title('Cumulative Explained Variance by Number of Principal Components for Home Team')\n",
    "plt.axhline(y=0.75, color='r', linestyle='--', label='90% variance')\n",
    "plt.legend()\n",
    "plt.show()\n"
   ]
  },
  {
   "cell_type": "code",
   "execution_count": 42,
   "metadata": {},
   "outputs": [
    {
     "name": "stdout",
     "output_type": "stream",
     "text": [
      "Top features for Principal Component 1:\n",
      "first_downs_home                 0.370377\n",
      "yards_home                       0.348739\n",
      "plays_home                       0.336807\n",
      "first_downs_from_passing_home    0.313244\n",
      "pass_yards_home                  0.298004\n",
      "possession_home                  0.283705\n",
      "pass_comp_home                   0.273932\n",
      "third_down_comp_home             0.239818\n",
      "pass_att_home                    0.217422\n",
      "redzone_att_home                 0.180984\n",
      "Name: 0, dtype: float64\n",
      "\n",
      "\n",
      "Top features for Principal Component 2:\n",
      "rush_att_home                    0.407453\n",
      "rush_yards_home                  0.394813\n",
      "pass_att_home                    0.371126\n",
      "first_downs_from_rushing_home    0.365884\n",
      "pass_comp_home                   0.315791\n",
      "first_downs_from_passing_home    0.229740\n",
      "pass_yards_home                  0.215523\n",
      "sacks_yards_home                 0.190848\n",
      "sacks_num_home                   0.188866\n",
      "possession_home                  0.166774\n",
      "Name: 1, dtype: float64\n",
      "\n",
      "\n",
      "Top features for Principal Component 3:\n",
      "third_down_att_home      0.442048\n",
      "sacks_num_home           0.347672\n",
      "sacks_yards_home         0.334215\n",
      "plays_home               0.302670\n",
      "possession_home          0.246774\n",
      "fourth_down_att_home     0.241633\n",
      "drives_home              0.240829\n",
      "pass_yards_home          0.230274\n",
      "redzone_comp_home        0.208548\n",
      "fourth_down_comp_home    0.201292\n",
      "Name: 2, dtype: float64\n",
      "\n",
      "\n"
     ]
    }
   ],
   "source": [
    "# Get the feature loadings for each principal component\n",
    "loadings_home = pd.DataFrame(pca.components_, columns=X_home.columns)\n",
    "\n",
    "# Display the top features for the first few principal components\n",
    "for i in range(3):  # Modify this to see more components if desired\n",
    "    print(f\"Top features for Principal Component {i+1}:\")\n",
    "    print(loadings_home.iloc[i].abs().sort_values(ascending=False).head(10))\n",
    "    print(\"\\n\")\n"
   ]
  },
  {
   "cell_type": "code",
   "execution_count": null,
   "metadata": {},
   "outputs": [],
   "source": []
  }
 ],
 "metadata": {
  "kernelspec": {
   "display_name": "base",
   "language": "python",
   "name": "python3"
  },
  "language_info": {
   "codemirror_mode": {
    "name": "ipython",
    "version": 3
   },
   "file_extension": ".py",
   "mimetype": "text/x-python",
   "name": "python",
   "nbconvert_exporter": "python",
   "pygments_lexer": "ipython3",
   "version": "3.10.9"
  }
 },
 "nbformat": 4,
 "nbformat_minor": 2
}
